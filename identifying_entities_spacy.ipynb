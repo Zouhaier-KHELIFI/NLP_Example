{
 "cells": [
  {
   "cell_type": "code",
   "execution_count": 1,
   "metadata": {},
   "outputs": [],
   "source": [
    "import spacy\n"
   ]
  },
  {
   "cell_type": "code",
   "execution_count": 5,
   "metadata": {},
   "outputs": [],
   "source": [
    "nlp = spacy.load(\"en_core_web_sm\")\n",
    "# Process the whole document\n",
    "text = (\"\"\"Natural Language Processing with Deep Learning in Python\n",
    "Complete guide on deriving and implementing word2vec, GloVe, word embeddings, and sentiment analysis with recursive nets\n",
    "4.5 (4,435 ratings)\n",
    "30,807 students enrolled\n",
    "Created by Lazy Programmer Inc.\n",
    "Last updated 12/2019\n",
    " English\n",
    " English [Auto-generated], French [Auto-generated].\"\"\")\n",
    "doc = nlp(text)\n"
   ]
  },
  {
   "cell_type": "code",
   "execution_count": 6,
   "metadata": {},
   "outputs": [
    {
     "name": "stdout",
     "output_type": "stream",
     "text": [
      "Noun phrases: ['Natural Language Processing', 'Python', 'Complete guide', 'word2vec', 'recursive nets', '(4,435 ratings', '30,807 students', 'Lazy Programmer Inc.']\n",
      "Verbs: ['learn', 'derive', 'implement', 'enrol', 'create', 'update', 'generate', 'generate']\n",
      "Natural Language Processing with Deep Learning ORG\n",
      "Python GPE\n",
      "GloVe PERSON\n",
      "4.5 CARDINAL\n",
      "4,435 CARDINAL\n",
      "30,807 CARDINAL\n",
      "Lazy Programmer Inc. ORG\n",
      "English LANGUAGE\n",
      "English LANGUAGE\n",
      "French LANGUAGE\n"
     ]
    }
   ],
   "source": [
    "# Analyze syntax\n",
    "print(\"Noun phrases:\", [chunk.text for chunk in doc.noun_chunks])\n",
    "print(\"Verbs:\", [token.lemma_ for token in doc if token.pos_ == \"VERB\"])\n",
    "\n",
    "# Find named entities, phrases and concepts\n",
    "for entity in doc.ents:\n",
    "    print(entity.text, entity.label_)"
   ]
  }
 ],
 "metadata": {
  "kernelspec": {
   "display_name": "Python 3",
   "language": "python",
   "name": "python3"
  },
  "language_info": {
   "codemirror_mode": {
    "name": "ipython",
    "version": 3
   },
   "file_extension": ".py",
   "mimetype": "text/x-python",
   "name": "python",
   "nbconvert_exporter": "python",
   "pygments_lexer": "ipython3",
   "version": "3.7.4"
  }
 },
 "nbformat": 4,
 "nbformat_minor": 2
}
